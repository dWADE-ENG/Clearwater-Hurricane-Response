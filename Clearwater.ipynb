{
 "cells": [
  {
   "cell_type": "code",
   "execution_count": 1,
   "id": "a53ab989-c822-4b9a-bc4c-aa0c89e23494",
   "metadata": {},
   "outputs": [
    {
     "name": "stdout",
     "output_type": "stream",
     "text": [
      "Requirement already satisfied: geopy in c:\\users\\demet\\anaconda3\\lib\\site-packages (2.4.1)\n",
      "Requirement already satisfied: folium in c:\\users\\demet\\anaconda3\\lib\\site-packages (0.18.0)\n",
      "Requirement already satisfied: pandas in c:\\users\\demet\\anaconda3\\lib\\site-packages (2.1.4)\n",
      "Requirement already satisfied: openpyxl in c:\\users\\demet\\anaconda3\\lib\\site-packages (3.0.10)\n",
      "Requirement already satisfied: geographiclib<3,>=1.52 in c:\\users\\demet\\anaconda3\\lib\\site-packages (from geopy) (2.0)\n",
      "Requirement already satisfied: branca>=0.6.0 in c:\\users\\demet\\anaconda3\\lib\\site-packages (from folium) (0.8.0)\n",
      "Requirement already satisfied: jinja2>=2.9 in c:\\users\\demet\\anaconda3\\lib\\site-packages (from folium) (3.1.3)\n",
      "Requirement already satisfied: numpy in c:\\users\\demet\\anaconda3\\lib\\site-packages (from folium) (1.26.4)\n",
      "Requirement already satisfied: requests in c:\\users\\demet\\anaconda3\\lib\\site-packages (from folium) (2.31.0)\n",
      "Requirement already satisfied: xyzservices in c:\\users\\demet\\anaconda3\\lib\\site-packages (from folium) (2022.9.0)\n",
      "Requirement already satisfied: python-dateutil>=2.8.2 in c:\\users\\demet\\anaconda3\\lib\\site-packages (from pandas) (2.8.2)\n",
      "Requirement already satisfied: pytz>=2020.1 in c:\\users\\demet\\anaconda3\\lib\\site-packages (from pandas) (2023.3.post1)\n",
      "Requirement already satisfied: tzdata>=2022.1 in c:\\users\\demet\\anaconda3\\lib\\site-packages (from pandas) (2023.3)\n",
      "Requirement already satisfied: et_xmlfile in c:\\users\\demet\\anaconda3\\lib\\site-packages (from openpyxl) (1.1.0)\n",
      "Requirement already satisfied: MarkupSafe>=2.0 in c:\\users\\demet\\anaconda3\\lib\\site-packages (from jinja2>=2.9->folium) (2.1.3)\n",
      "Requirement already satisfied: six>=1.5 in c:\\users\\demet\\anaconda3\\lib\\site-packages (from python-dateutil>=2.8.2->pandas) (1.16.0)\n",
      "Requirement already satisfied: charset-normalizer<4,>=2 in c:\\users\\demet\\anaconda3\\lib\\site-packages (from requests->folium) (2.0.4)\n",
      "Requirement already satisfied: idna<4,>=2.5 in c:\\users\\demet\\anaconda3\\lib\\site-packages (from requests->folium) (3.4)\n",
      "Requirement already satisfied: urllib3<3,>=1.21.1 in c:\\users\\demet\\anaconda3\\lib\\site-packages (from requests->folium) (2.0.7)\n",
      "Requirement already satisfied: certifi>=2017.4.17 in c:\\users\\demet\\anaconda3\\lib\\site-packages (from requests->folium) (2024.8.30)\n"
     ]
    }
   ],
   "source": [
    "!pip install geopy folium pandas openpyxl\n",
    "from geopy.geocoders import Nominatim\n",
    "import pandas as pd\n",
    "import folium\n",
    "import time"
   ]
  },
  {
   "cell_type": "code",
   "execution_count": 2,
   "id": "000c50c0-b5bb-4014-85fd-66c77a57525e",
   "metadata": {},
   "outputs": [],
   "source": [
    "# Load the Excel file\n",
    "data = pd.read_excel(r\"C:\\Users\\demet\\OneDrive\\Desktop\\Scrubbed Helene Data_PRINT.xlsx\")"
   ]
  },
  {
   "cell_type": "code",
   "execution_count": 3,
   "id": "3f8a6586-bb0a-4fcc-a792-3953e440ae89",
   "metadata": {},
   "outputs": [],
   "source": [
    "geolocator = Nominatim(user_agent=\"geo_app\")"
   ]
  },
  {
   "cell_type": "code",
   "execution_count": 7,
   "id": "56aa8001-aa96-4a66-86e3-e3e945ff3eef",
   "metadata": {},
   "outputs": [],
   "source": [
    "# Define a function to geocode an address with a delay\n",
    "def geocode_address(address):\n",
    "    try:\n",
    "        location = geolocator.geocode(address)\n",
    "        if location:\n",
    "            return location.latitude, location.longitude\n",
    "        else:\n",
    "            return None, None\n",
    "    except:\n",
    "        return None, None"
   ]
  },
  {
   "cell_type": "code",
   "execution_count": 9,
   "id": "6ee3c4ea-cb88-4e91-a8b1-426d3d202b5e",
   "metadata": {},
   "outputs": [],
   "source": [
    "# Create Latitude and Longitude columns by applying the geocode function with delay\n",
    "latitudes = []\n",
    "longitudes = []"
   ]
  },
  {
   "cell_type": "code",
   "execution_count": 13,
   "id": "8d7208cb-51e7-4268-bee0-c6d5525b9ae5",
   "metadata": {},
   "outputs": [],
   "source": [
    "data['Latitude'] = latitudes\n",
    "data['Longitude'] = longitudes"
   ]
  },
  {
   "cell_type": "code",
   "execution_count": 15,
   "id": "767666ef-cfb0-4abf-af84-325b7202526d",
   "metadata": {},
   "outputs": [
    {
     "name": "stdout",
     "output_type": "stream",
     "text": [
      "Geocoding complete. Data saved to geocoded_addresses.xlsx\n"
     ]
    }
   ],
   "source": [
    "# Save the updated data back to Excel\n",
    "output_file = 'geocoded_addresses.xlsx'\n",
    "data.to_excel(output_file, index=False)\n",
    "print(f\"Geocoding complete. Data saved to {output_file}\")"
   ]
  },
  {
   "cell_type": "code",
   "execution_count": 17,
   "id": "924aa388-24e0-414a-9ba2-18b06a64677d",
   "metadata": {},
   "outputs": [],
   "source": [
    "lat_median = data['Latitude'].median()\n",
    "lon_median = data['Longitude'].median()\n",
    "\n",
    "def assign_quadrant(lat, lon):\n",
    "    if lat >= lat_median and lon >= lon_median:\n",
    "        return 'NE'\n",
    "    elif lat >= lat_median and lon < lon_median:\n",
    "        return 'NW'\n",
    "    elif lat < lat_median and lon >= lon_median:\n",
    "        return 'SE'\n",
    "    else:\n",
    "        return 'SW'\n",
    "\n",
    "data['Quadrant'] = data.apply(lambda row: assign_quadrant(row['Latitude'], row['Longitude']), axis=1)"
   ]
  },
  {
   "cell_type": "code",
   "execution_count": 23,
   "id": "1c91600d-a527-4117-b974-43e89f89d336",
   "metadata": {},
   "outputs": [
    {
     "name": "stdout",
     "output_type": "stream",
     "text": [
      "Map created successfully and saved as 'map_with_quadrants.html'\n"
     ]
    }
   ],
   "source": [
    "# Center map around the median location\n",
    "map_center = [data['Latitude'].median(), data['Longitude'].median()]\n",
    "m = folium.Map(location=map_center, zoom_start=13)\n",
    "\n",
    "# Assign colors to each quadrant\n",
    "quadrant_color = {'NE': 'blue', 'NW': 'green', 'SE': 'orange', 'SW': 'red'}\n",
    "\n",
    "# Add markers to the map\n",
    "for _, row in data.dropna(subset=['Latitude', 'Longitude']).iterrows():\n",
    "    folium.Marker(\n",
    "        [row['Latitude'], row['Longitude']],\n",
    "        popup=row['Post Address'],\n",
    "        icon=folium.Icon(color=quadrant_color.get(row['Quadrant'], 'gray'))\n",
    "    ).add_to(m)\n",
    "\n",
    "# Save the map\n",
    "m.save('map_with_quadrants.html')\n",
    "print(\"Map created successfully and saved as 'map_with_quadrants.html'\")"
   ]
  },
  {
   "cell_type": "code",
   "execution_count": null,
   "id": "458cc07a-f3f2-48fa-a8dd-61e33344936e",
   "metadata": {},
   "outputs": [],
   "source": []
  }
 ],
 "metadata": {
  "kernelspec": {
   "display_name": "Python 3 (ipykernel)",
   "language": "python",
   "name": "python3"
  },
  "language_info": {
   "codemirror_mode": {
    "name": "ipython",
    "version": 3
   },
   "file_extension": ".py",
   "mimetype": "text/x-python",
   "name": "python",
   "nbconvert_exporter": "python",
   "pygments_lexer": "ipython3",
   "version": "3.11.7"
  }
 },
 "nbformat": 4,
 "nbformat_minor": 5
}
